{
 "cells": [
  {
   "cell_type": "markdown",
   "metadata": {},
   "source": [
    "## Google Vertex AI (Auto ML)\n",
    "This notebook shows the necessary steps to prepare the data for Google Auto ML.\n",
    "At the end of then notebook the evaluation is shown.\n",
    "\n"
   ]
  },
  {
   "cell_type": "code",
   "execution_count": null,
   "metadata": {},
   "outputs": [],
   "source": [
    "!pip uninstall -y fhnw-nlp-utils==0.1.3\n",
    "!pip install git+https://github.com/TheoHelfenberger/fhnw-nlp-utils@fix_plot_feature_importance\n",
    "!pip install pyarrow fastparquet\n",
    "\n",
    "from fhnw.nlp.utils.processing import parallelize_dataframe\n",
    "from fhnw.nlp.utils.processing import is_iterable\n",
    "from fhnw.nlp.utils.storage import download\n",
    "from fhnw.nlp.utils.storage import save_dataframe\n",
    "from fhnw.nlp.utils.storage import load_dataframe\n",
    "\n",
    "import pandas as pd\n",
    "import numpy as np"
   ]
  },
  {
   "cell_type": "code",
   "execution_count": 19,
   "metadata": {},
   "outputs": [],
   "source": [
    "file = \"data/german_news_articles_original_train_and_test_tokenized.parq\"\n",
    "data_all = load_dataframe(file)"
   ]
  },
  {
   "cell_type": "code",
   "execution_count": 20,
   "metadata": {},
   "outputs": [
    {
     "data": {
      "text/html": [
       "<div>\n",
       "<style scoped>\n",
       "    .dataframe tbody tr th:only-of-type {\n",
       "        vertical-align: middle;\n",
       "    }\n",
       "\n",
       "    .dataframe tbody tr th {\n",
       "        vertical-align: top;\n",
       "    }\n",
       "\n",
       "    .dataframe thead th {\n",
       "        text-align: right;\n",
       "    }\n",
       "</style>\n",
       "<table border=\"1\" class=\"dataframe\">\n",
       "  <thead>\n",
       "    <tr style=\"text-align: right;\">\n",
       "      <th></th>\n",
       "      <th>text_original</th>\n",
       "      <th>label</th>\n",
       "      <th>split</th>\n",
       "      <th>text_clean</th>\n",
       "      <th>token_clean</th>\n",
       "      <th>token_lemma</th>\n",
       "      <th>token_stem</th>\n",
       "      <th>token_clean_stopwords</th>\n",
       "    </tr>\n",
       "  </thead>\n",
       "  <tbody>\n",
       "    <tr>\n",
       "      <th>0</th>\n",
       "      <td>21-Jähriger fällt wohl bis Saisonende aus. Wie...</td>\n",
       "      <td>Sport</td>\n",
       "      <td>train</td>\n",
       "      <td>Jähriger fällt wohl bis Saisonende aus Wien R...</td>\n",
       "      <td>[jähriger, fällt, wohl, saisonende, wien, rapi...</td>\n",
       "      <td>[jähriger, fällen, wohl, saisonende, wien, rap...</td>\n",
       "      <td>[jahrig, fallt, wohl, saison, wien, rapid, woh...</td>\n",
       "      <td>[jähriger, fällt, wohl, saisonende, wien, rapi...</td>\n",
       "    </tr>\n",
       "    <tr>\n",
       "      <th>1</th>\n",
       "      <td>Erfundene Bilder zu Filmen, die als verloren g...</td>\n",
       "      <td>Kultur</td>\n",
       "      <td>train</td>\n",
       "      <td>Erfundene Bilder zu Filmen die als verloren ge...</td>\n",
       "      <td>[erfundene, bilder, filmen, verloren, gelten, ...</td>\n",
       "      <td>[erfundene, bild, film, verlieren, gelten, the...</td>\n",
       "      <td>[erfund, bild, film, verlor, gelt, the, forbid...</td>\n",
       "      <td>[erfundene, bilder, filmen, verloren, gelten, ...</td>\n",
       "    </tr>\n",
       "    <tr>\n",
       "      <th>2</th>\n",
       "      <td>Der frischgekürte CEO Sundar Pichai setzt auf ...</td>\n",
       "      <td>Web</td>\n",
       "      <td>train</td>\n",
       "      <td>Der frischgekürte CEO Sundar Pichai setzt auf ...</td>\n",
       "      <td>[frischgekürte, ceo, sundar, pichai, setzt, um...</td>\n",
       "      <td>[frischgekürte, ceo, sundar, pichai, setzen, u...</td>\n",
       "      <td>[frischgekurt, ceo, sundar, pichai, setzt, umg...</td>\n",
       "      <td>[frischgekürte, ceo, sundar, pichai, setzt, um...</td>\n",
       "    </tr>\n",
       "  </tbody>\n",
       "</table>\n",
       "</div>"
      ],
      "text/plain": [
       "                                       text_original   label  split  \\\n",
       "0  21-Jähriger fällt wohl bis Saisonende aus. Wie...   Sport  train   \n",
       "1  Erfundene Bilder zu Filmen, die als verloren g...  Kultur  train   \n",
       "2  Der frischgekürte CEO Sundar Pichai setzt auf ...     Web  train   \n",
       "\n",
       "                                          text_clean  \\\n",
       "0   Jähriger fällt wohl bis Saisonende aus Wien R...   \n",
       "1  Erfundene Bilder zu Filmen die als verloren ge...   \n",
       "2  Der frischgekürte CEO Sundar Pichai setzt auf ...   \n",
       "\n",
       "                                         token_clean  \\\n",
       "0  [jähriger, fällt, wohl, saisonende, wien, rapi...   \n",
       "1  [erfundene, bilder, filmen, verloren, gelten, ...   \n",
       "2  [frischgekürte, ceo, sundar, pichai, setzt, um...   \n",
       "\n",
       "                                         token_lemma  \\\n",
       "0  [jähriger, fällen, wohl, saisonende, wien, rap...   \n",
       "1  [erfundene, bild, film, verlieren, gelten, the...   \n",
       "2  [frischgekürte, ceo, sundar, pichai, setzen, u...   \n",
       "\n",
       "                                          token_stem  \\\n",
       "0  [jahrig, fallt, wohl, saison, wien, rapid, woh...   \n",
       "1  [erfund, bild, film, verlor, gelt, the, forbid...   \n",
       "2  [frischgekurt, ceo, sundar, pichai, setzt, umg...   \n",
       "\n",
       "                               token_clean_stopwords  \n",
       "0  [jähriger, fällt, wohl, saisonende, wien, rapi...  \n",
       "1  [erfundene, bilder, filmen, verloren, gelten, ...  \n",
       "2  [frischgekürte, ceo, sundar, pichai, setzt, um...  "
      ]
     },
     "execution_count": 20,
     "metadata": {},
     "output_type": "execute_result"
    }
   ],
   "source": [
    "data_all.head(3)"
   ]
  },
  {
   "cell_type": "code",
   "execution_count": 21,
   "metadata": {},
   "outputs": [],
   "source": [
    "df_forexport = data_all[['text_clean', 'label', 'split']]"
   ]
  },
  {
   "cell_type": "code",
   "execution_count": 22,
   "metadata": {},
   "outputs": [],
   "source": [
    "df_forexport = df_forexport.rename(columns={'text_clean':'textContent', 'label':'classificationAnnotation', 'split': 'dataItemResourceLabels'})"
   ]
  },
  {
   "cell_type": "code",
   "execution_count": 24,
   "metadata": {},
   "outputs": [],
   "source": [
    "# Wanted to use the same split as in all the other examples. But I was not able to achieve the train, test validation on Verte AI.\n",
    "# So the model was computed with a Google create 80:20 stratified automatic split\n",
    "\n",
    "df_forexport['dataItemResourceLabels'] = df_forexport['dataItemResourceLabels'].apply(lambda split: 'unassigned' if split == 'train' else 'test')"
   ]
  },
  {
   "cell_type": "code",
   "execution_count": 25,
   "metadata": {},
   "outputs": [],
   "source": [
    "df_forexport.to_csv('data/for_automl3.csv', index=False, sep=',', encoding='UTF-8', header=False, \n",
    "                    columns=['dataItemResourceLabels', 'textContent', 'classificationAnnotation'])"
   ]
  },
  {
   "cell_type": "code",
   "execution_count": null,
   "metadata": {},
   "outputs": [],
   "source": [
    "!gsutil cp data/for_automl3.csv gs://thelf-data"
   ]
  },
  {
   "cell_type": "markdown",
   "metadata": {},
   "source": [
    "### Vertex Auto ML calculation took about 3h 48 min.\n",
    "\n",
    "\n"
   ]
  },
  {
   "cell_type": "code",
   "execution_count": null,
   "metadata": {},
   "outputs": [],
   "source": [
    "# Download the Auto ML model evaluation as JSON\n",
    "\n",
    "# https://cloud.google.com/vertex-ai/docs/training/evaluating-automl-models\n",
    "!curl -X GET \\\n",
    "-H \"Authorization: Bearer \"$(gcloud auth application-default print-access-token) \\\n",
    "\"https://us-central1-aiplatform.googleapis.com/v1/projects/theos-234311/locations/us-central1/models/7468098480133636096/evaluations\" \\\n",
    "--output  auto_ml_evaluation.json"
   ]
  },
  {
   "cell_type": "code",
   "execution_count": 4,
   "metadata": {},
   "outputs": [],
   "source": [
    "import json\n",
    "\n",
    "with open('auto_ml_evaluation.json', 'r') as myfile:\n",
    "    data=myfile.read()\n",
    "    obj = json.loads(data)"
   ]
  },
  {
   "cell_type": "code",
   "execution_count": 33,
   "metadata": {},
   "outputs": [
    {
     "data": {
      "text/plain": [
       "[{'confidenceThreshold': 0.5,\n",
       "  'recall': 0.87328094,\n",
       "  'precision': 0.8775913,\n",
       "  'f1Score': 0.8754308,\n",
       "  'recallAt1': 0.87328094,\n",
       "  'precisionAt1': 0.8775913,\n",
       "  'f1ScoreAt1': 0.8754308}]"
      ]
     },
     "execution_count": 33,
     "metadata": {},
     "output_type": "execute_result"
    }
   ],
   "source": [
    "# Downloaded metrics contains ROC curve values.\n",
    "# All the other models were evaluated at confidenceThreshold = 0.5 (50%)\n",
    "# Find that object in the list of metrics\n",
    "metrics = obj['modelEvaluations'][0]['metrics']['confidenceMetrics'] \n",
    "thres50 = [metric for metric in metrics if metric.get('confidenceThreshold') == 0.5]\n",
    "thres50"
   ]
  },
  {
   "cell_type": "markdown",
   "metadata": {},
   "source": [
    "![auto_ml_evaluation.png](auto_ml_evaluation.png)"
   ]
  }
 ],
 "metadata": {
  "kernelspec": {
   "display_name": "Python 3",
   "language": "python",
   "name": "python3"
  },
  "language_info": {
   "codemirror_mode": {
    "name": "ipython",
    "version": 3
   },
   "file_extension": ".py",
   "mimetype": "text/x-python",
   "name": "python",
   "nbconvert_exporter": "python",
   "pygments_lexer": "ipython3",
   "version": "3.6.9"
  }
 },
 "nbformat": 4,
 "nbformat_minor": 2
}
