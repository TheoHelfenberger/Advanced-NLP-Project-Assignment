{
 "cells": [
  {
   "cell_type": "markdown",
   "metadata": {},
   "source": [
    "## Simple Transformers \n",
    "\n",
    "In this notebook we use [Simple Transformer](https://simpletransformers.ai/) to do text classification on the German News Text.\n",
    "The out of the box model was trained for 4 epochs (8 minutes per epoch) and in the end performed slightly better than the td idf based models.\n",
    "\n",
    "Nevertheless predictions time increased compared to tf idf models.\n",
    "\n",
    "Will not follow this model any further.\n",
    "\n",
    "Check the summary table below\n",
    "\n",
    "![classification_results_with_simpletransformer.png](classification_results_with_simpletransformer.png)"
   ]
  },
  {
   "cell_type": "code",
   "execution_count": null,
   "metadata": {},
   "outputs": [],
   "source": [
    "!pip install pandas tqdm\n",
    "!pip install torch simpletransformers"
   ]
  },
  {
   "cell_type": "code",
   "execution_count": 2,
   "metadata": {},
   "outputs": [
    {
     "data": {
      "text/plain": [
       "True"
      ]
     },
     "execution_count": 2,
     "metadata": {},
     "output_type": "execute_result"
    }
   ],
   "source": [
    "# Is the GPU available?\n",
    "import torch\n",
    "torch.cuda.is_available()"
   ]
  },
  {
   "cell_type": "code",
   "execution_count": null,
   "metadata": {},
   "outputs": [],
   "source": [
    "!pip install git+https://github.com/TheoHelfenberger/fhnw-nlp-utils@fix_plot_feature_importance\n",
    "!pip install pyarrow fastparquet\n",
    "\n",
    "from fhnw.nlp.utils.processing import parallelize_dataframe\n",
    "from fhnw.nlp.utils.processing import is_iterable\n",
    "from fhnw.nlp.utils.storage import download\n",
    "from fhnw.nlp.utils.storage import save_dataframe\n",
    "from fhnw.nlp.utils.storage import load_dataframe"
   ]
  },
  {
   "cell_type": "code",
   "execution_count": 4,
   "metadata": {},
   "outputs": [],
   "source": [
    "file = \"data/german_news_articles_original_train_and_test_tokenized.parq\"\n",
    "data_all = load_dataframe(file)"
   ]
  },
  {
   "cell_type": "code",
   "execution_count": 7,
   "metadata": {},
   "outputs": [
    {
     "data": {
      "text/html": [
       "<div>\n",
       "<style scoped>\n",
       "    .dataframe tbody tr th:only-of-type {\n",
       "        vertical-align: middle;\n",
       "    }\n",
       "\n",
       "    .dataframe tbody tr th {\n",
       "        vertical-align: top;\n",
       "    }\n",
       "\n",
       "    .dataframe thead th {\n",
       "        text-align: right;\n",
       "    }\n",
       "</style>\n",
       "<table border=\"1\" class=\"dataframe\">\n",
       "  <thead>\n",
       "    <tr style=\"text-align: right;\">\n",
       "      <th></th>\n",
       "      <th>text_original</th>\n",
       "      <th>label</th>\n",
       "      <th>split</th>\n",
       "      <th>text_clean</th>\n",
       "      <th>token_clean</th>\n",
       "      <th>token_lemma</th>\n",
       "      <th>token_stem</th>\n",
       "      <th>token_clean_stopwords</th>\n",
       "    </tr>\n",
       "  </thead>\n",
       "  <tbody>\n",
       "    <tr>\n",
       "      <th>2511</th>\n",
       "      <td>Auch Galaxy S6 Edge soll ab sofort beliefert w...</td>\n",
       "      <td>Web</td>\n",
       "      <td>train</td>\n",
       "      <td>Auch Galaxy Edge soll ab sofort beliefert werd...</td>\n",
       "      <td>[galaxy, edge, ab, sofort, beliefert, neue, fu...</td>\n",
       "      <td>[galaxy, edge, ab, sofort, beliefern, neues, f...</td>\n",
       "      <td>[galaxy, edg, ab, sofort, beliefert, neu, funk...</td>\n",
       "      <td>[galaxy, edge, ab, sofort, beliefert, neue, fu...</td>\n",
       "    </tr>\n",
       "    <tr>\n",
       "      <th>1305</th>\n",
       "      <td>Entscheidung über den neuen Direktor des Insti...</td>\n",
       "      <td>Wissenschaft</td>\n",
       "      <td>train</td>\n",
       "      <td>Entscheidung über den neuen Direktor des Insti...</td>\n",
       "      <td>[entscheidung, neuen, direktor, instituts, höh...</td>\n",
       "      <td>[entscheidung, neu, direktor, institut, hoch, ...</td>\n",
       "      <td>[entscheid, neu, direktor, institut, hoh, stud...</td>\n",
       "      <td>[entscheidung, neuen, direktor, instituts, höh...</td>\n",
       "    </tr>\n",
       "    <tr>\n",
       "      <th>1441</th>\n",
       "      <td>Vier Studierende sollen auf dem Weg zu ihrem A...</td>\n",
       "      <td>Panorama</td>\n",
       "      <td>train</td>\n",
       "      <td>Vier Studierende sollen auf dem Weg zu ihrem A...</td>\n",
       "      <td>[vier, studierende, sollen, auto, schlagstöcke...</td>\n",
       "      <td>[vier, studierende, sollen, auto, schlagstöcke...</td>\n",
       "      <td>[vier, studier, soll, auto, schlagstock, attac...</td>\n",
       "      <td>[vier, studierende, sollen, auto, schlagstöcke...</td>\n",
       "    </tr>\n",
       "  </tbody>\n",
       "</table>\n",
       "</div>"
      ],
      "text/plain": [
       "                                          text_original         label  split  \\\n",
       "2511  Auch Galaxy S6 Edge soll ab sofort beliefert w...           Web  train   \n",
       "1305  Entscheidung über den neuen Direktor des Insti...  Wissenschaft  train   \n",
       "1441  Vier Studierende sollen auf dem Weg zu ihrem A...      Panorama  train   \n",
       "\n",
       "                                             text_clean  \\\n",
       "2511  Auch Galaxy Edge soll ab sofort beliefert werd...   \n",
       "1305  Entscheidung über den neuen Direktor des Insti...   \n",
       "1441  Vier Studierende sollen auf dem Weg zu ihrem A...   \n",
       "\n",
       "                                            token_clean  \\\n",
       "2511  [galaxy, edge, ab, sofort, beliefert, neue, fu...   \n",
       "1305  [entscheidung, neuen, direktor, instituts, höh...   \n",
       "1441  [vier, studierende, sollen, auto, schlagstöcke...   \n",
       "\n",
       "                                            token_lemma  \\\n",
       "2511  [galaxy, edge, ab, sofort, beliefern, neues, f...   \n",
       "1305  [entscheidung, neu, direktor, institut, hoch, ...   \n",
       "1441  [vier, studierende, sollen, auto, schlagstöcke...   \n",
       "\n",
       "                                             token_stem  \\\n",
       "2511  [galaxy, edg, ab, sofort, beliefert, neu, funk...   \n",
       "1305  [entscheid, neu, direktor, institut, hoh, stud...   \n",
       "1441  [vier, studier, soll, auto, schlagstock, attac...   \n",
       "\n",
       "                                  token_clean_stopwords  \n",
       "2511  [galaxy, edge, ab, sofort, beliefert, neue, fu...  \n",
       "1305  [entscheidung, neuen, direktor, instituts, höh...  \n",
       "1441  [vier, studierende, sollen, auto, schlagstöcke...  "
      ]
     },
     "execution_count": 7,
     "metadata": {},
     "output_type": "execute_result"
    }
   ],
   "source": [
    "data_all.sample(3)"
   ]
  },
  {
   "cell_type": "code",
   "execution_count": 8,
   "metadata": {},
   "outputs": [
    {
     "name": "stdout",
     "output_type": "stream",
     "text": [
      "Number of classes 9\n"
     ]
    }
   ],
   "source": [
    "# Need to apply the Label Encoding\n",
    "from sklearn.preprocessing import LabelEncoder\n",
    "encoder = LabelEncoder()\n",
    "\n",
    "data_all.drop(columns=['label_encoded', 'label_onehot'], errors='ignore', inplace=True)\n",
    "data_all['label_encoded'] = encoder.fit_transform(data_all['label'])\n",
    "\n",
    "num_labels = len(encoder.classes_)\n",
    "print(f'Number of classes {num_labels}')"
   ]
  },
  {
   "cell_type": "code",
   "execution_count": 12,
   "metadata": {},
   "outputs": [
    {
     "data": {
      "text/plain": [
       "array([0, 1, 2, 3, 4, 5, 6, 7, 8])"
      ]
     },
     "execution_count": 12,
     "metadata": {},
     "output_type": "execute_result"
    }
   ],
   "source": [
    "# Check the results\n",
    "encoder.transform(['Etat', 'Inland', 'International', 'Kultur', 'Panorama', 'Sport',\n",
    "       'Web', 'Wirtschaft', 'Wissenschaft'])"
   ]
  },
  {
   "cell_type": "code",
   "execution_count": 11,
   "metadata": {},
   "outputs": [
    {
     "data": {
      "text/plain": [
       "[6, 9, 14, 5, 16, 11, 16, 13, 5]"
      ]
     },
     "execution_count": 11,
     "metadata": {},
     "output_type": "execute_result"
    }
   ],
   "source": [
    "# Tried to play around with different weights but did not follow that path further\n",
    "import numpy as np\n",
    "val_counts = data_all[\"label_encoded\"].value_counts()\n",
    "val_counts = val_counts / np.sum(val_counts) * 100.0\n",
    "weight = (val_counts.astype(int)).sort_index().tolist()\n",
    "weight"
   ]
  },
  {
   "cell_type": "code",
   "execution_count": 13,
   "metadata": {},
   "outputs": [
    {
     "name": "stdout",
     "output_type": "stream",
     "text": [
      "Total number of lines 10273\n",
      "Percentage by label\n",
      "Panorama         0.163341\n",
      "Web              0.163243\n",
      "International    0.147085\n",
      "Wirtschaft       0.137350\n",
      "Sport            0.116908\n",
      "Inland           0.098803\n",
      "Etat             0.065025\n",
      "Wissenschaft     0.055777\n",
      "Kultur           0.052468\n",
      "Name: label, dtype: float64\n"
     ]
    },
    {
     "data": {
      "text/plain": [
       "array(['Etat', 'Inland', 'International', 'Kultur', 'Panorama', 'Sport',\n",
       "       'Web', 'Wirtschaft', 'Wissenschaft'], dtype=object)"
      ]
     },
     "execution_count": 13,
     "metadata": {},
     "output_type": "execute_result"
    },
    {
     "data": {
      "image/png": "[encoded data removed]",
      "text/plain": [
       "<Figure size 432x288 with 1 Axes>"
      ]
     },
     "metadata": {
      "needs_background": "light"
     },
     "output_type": "display_data"
    }
   ],
   "source": [
    "import numpy as np\n",
    "\n",
    "val_counts = data_all[\"label\"].value_counts()\n",
    "\n",
    "print(f'Total number of lines {len(data_all)}')\n",
    "print('Percentage by label')\n",
    "val_counts = val_counts / np.sum(val_counts)\n",
    "print(val_counts)\n",
    "val_counts.plot(kind='barh')\n",
    "\n",
    "encoder.classes_"
   ]
  },
  {
   "cell_type": "code",
   "execution_count": 15,
   "metadata": {},
   "outputs": [
    {
     "data": {
      "text/html": [
       "<div>\n",
       "<style scoped>\n",
       "    .dataframe tbody tr th:only-of-type {\n",
       "        vertical-align: middle;\n",
       "    }\n",
       "\n",
       "    .dataframe tbody tr th {\n",
       "        vertical-align: top;\n",
       "    }\n",
       "\n",
       "    .dataframe thead th {\n",
       "        text-align: right;\n",
       "    }\n",
       "</style>\n",
       "<table border=\"1\" class=\"dataframe\">\n",
       "  <thead>\n",
       "    <tr style=\"text-align: right;\">\n",
       "      <th></th>\n",
       "      <th>text</th>\n",
       "      <th>labels</th>\n",
       "      <th>split</th>\n",
       "    </tr>\n",
       "  </thead>\n",
       "  <tbody>\n",
       "    <tr>\n",
       "      <th>0</th>\n",
       "      <td>Jähriger fällt wohl bis Saisonende aus Wien R...</td>\n",
       "      <td>5</td>\n",
       "      <td>train</td>\n",
       "    </tr>\n",
       "    <tr>\n",
       "      <th>1</th>\n",
       "      <td>Erfundene Bilder zu Filmen die als verloren ge...</td>\n",
       "      <td>3</td>\n",
       "      <td>train</td>\n",
       "    </tr>\n",
       "    <tr>\n",
       "      <th>2</th>\n",
       "      <td>Der frischgekürte CEO Sundar Pichai setzt auf ...</td>\n",
       "      <td>6</td>\n",
       "      <td>train</td>\n",
       "    </tr>\n",
       "  </tbody>\n",
       "</table>\n",
       "</div>"
      ],
      "text/plain": [
       "                                                text  labels  split\n",
       "0   Jähriger fällt wohl bis Saisonende aus Wien R...       5  train\n",
       "1  Erfundene Bilder zu Filmen die als verloren ge...       3  train\n",
       "2  Der frischgekürte CEO Sundar Pichai setzt auf ...       6  train"
      ]
     },
     "execution_count": 15,
     "metadata": {},
     "output_type": "execute_result"
    }
   ],
   "source": [
    "# Rename columns to fit simpletransformer\n",
    "data_all_renamed = data_all[['text_clean', 'label_encoded', 'split']]\n",
    "data_all_renamed = data_all_renamed.rename(columns={'text_clean': 'text', 'label_encoded': 'labels'})\n",
    "\n",
    "data_all_renamed.head(3)"
   ]
  },
  {
   "cell_type": "code",
   "execution_count": 16,
   "metadata": {},
   "outputs": [],
   "source": [
    "# We try always to use the same split to be able to compare the results\n",
    "data_train_orig = data_all_renamed.loc[(data_all[\"split\"] == \"train\")]\n",
    "data_test_orig = data_all_renamed.loc[(data_all[\"split\"] == \"test\")]"
   ]
  },
  {
   "cell_type": "code",
   "execution_count": 17,
   "metadata": {},
   "outputs": [],
   "source": [
    "# Get the simple transfomers classification model\n",
    "from simpletransformers.classification import ClassificationModel, ClassificationArgs\n",
    "import pandas as pd\n",
    "import logging\n",
    "\n",
    "# Adjust loggin levels\n",
    "logging.basicConfig(level=logging.INFO)\n",
    "transformers_logger = logging.getLogger(\"transformers\")\n",
    "transformers_logger.setLevel(logging.WARNING)"
   ]
  },
  {
   "cell_type": "code",
   "execution_count": 19,
   "metadata": {},
   "outputs": [
    {
     "data": {
      "application/vnd.jupyter.widget-view+json": {
       "model_id": "683d3c21d9284bfe896e15fb574c2ab4",
       "version_major": 2,
       "version_minor": 0
      },
      "text/plain": [
       "Downloading:   0%|          | 0.00/433 [00:00<?, ?B/s]"
      ]
     },
     "metadata": {},
     "output_type": "display_data"
    },
    {
     "data": {
      "application/vnd.jupyter.widget-view+json": {
       "model_id": "c6dd8d8e021e4b4892f23544ebf29a43",
       "version_major": 2,
       "version_minor": 0
      },
      "text/plain": [
       "Downloading:   0%|          | 0.00/419M [00:00<?, ?B/s]"
      ]
     },
     "metadata": {},
     "output_type": "display_data"
    },
    {
     "name": "stderr",
     "output_type": "stream",
     "text": [
      "Some weights of the model checkpoint at bert-base-german-cased were not used when initializing BertForSequenceClassification: ['cls.predictions.transform.dense.weight', 'cls.seq_relationship.weight', 'cls.predictions.bias', 'cls.seq_relationship.bias', 'cls.predictions.transform.LayerNorm.weight', 'cls.predictions.transform.LayerNorm.bias', 'cls.predictions.decoder.weight', 'cls.predictions.transform.dense.bias']\n",
      "- This IS expected if you are initializing BertForSequenceClassification from the checkpoint of a model trained on another task or with another architecture (e.g. initializing a BertForSequenceClassification model from a BertForPreTraining model).\n",
      "- This IS NOT expected if you are initializing BertForSequenceClassification from the checkpoint of a model that you expect to be exactly identical (initializing a BertForSequenceClassification model from a BertForSequenceClassification model).\n",
      "Some weights of BertForSequenceClassification were not initialized from the model checkpoint at bert-base-german-cased and are newly initialized: ['classifier.weight', 'classifier.bias']\n",
      "You should probably TRAIN this model on a down-stream task to be able to use it for predictions and inference.\n"
     ]
    },
    {
     "data": {
      "application/vnd.jupyter.widget-view+json": {
       "model_id": "f1fce84647144808b080e7a00e4e766f",
       "version_major": 2,
       "version_minor": 0
      },
      "text/plain": [
       "Downloading:   0%|          | 0.00/249k [00:00<?, ?B/s]"
      ]
     },
     "metadata": {},
     "output_type": "display_data"
    },
    {
     "data": {
      "application/vnd.jupyter.widget-view+json": {
       "model_id": "5fd8cece12c2406f9a9ad77d105fe923",
       "version_major": 2,
       "version_minor": 0
      },
      "text/plain": [
       "Downloading:   0%|          | 0.00/474k [00:00<?, ?B/s]"
      ]
     },
     "metadata": {},
     "output_type": "display_data"
    },
    {
     "data": {
      "application/vnd.jupyter.widget-view+json": {
       "model_id": "2f7bcc50aa324f249759d29219dd2d75",
       "version_major": 2,
       "version_minor": 0
      },
      "text/plain": [
       "Downloading:   0%|          | 0.00/29.0 [00:00<?, ?B/s]"
      ]
     },
     "metadata": {},
     "output_type": "display_data"
    }
   ],
   "source": [
    "# Optional model configuration\n",
    "# We will use BERT german\n",
    "model_args = ClassificationArgs(num_train_epochs=4, overwrite_output_dir=True, \n",
    "                                sliding_window=True)\n",
    "\n",
    "# Create a ClassificationModel\n",
    "model = ClassificationModel(\n",
    "    'bert',\n",
    "    'bert-base-german-cased',\n",
    "    num_labels=len(data_train_orig['labels'].unique()),\n",
    "    args=model_args,\n",
    "    use_cuda = True,\n",
    "    #weight=weight\n",
    ") "
   ]
  },
  {
   "cell_type": "code",
   "execution_count": 25,
   "metadata": {},
   "outputs": [
    {
     "name": "stderr",
     "output_type": "stream",
     "text": [
      "INFO:simpletransformers.classification.classification_model: Converting to features started. Cache is not used.\n",
      "INFO:simpletransformers.classification.classification_model: Sliding window enabled\n",
      "Token indices sequence length is longer than the specified maximum sequence length for this model (815 > 512). Running this sequence through the model will result in indexing errors\n",
      "Token indices sequence length is longer than the specified maximum sequence length for this model (668 > 512). Running this sequence through the model will result in indexing errors\n"
     ]
    },
    {
     "data": {
      "application/vnd.jupyter.widget-view+json": {
       "model_id": "e9dfd6fbab9742799c7002abdd567b96",
       "version_major": 2,
       "version_minor": 0
      },
      "text/plain": [
       "  0%|          | 0/9245 [00:00<?, ?it/s]"
      ]
     },
     "metadata": {},
     "output_type": "display_data"
    },
    {
     "name": "stderr",
     "output_type": "stream",
     "text": [
      "Token indices sequence length is longer than the specified maximum sequence length for this model (2427 > 512). Running this sequence through the model will result in indexing errors\n",
      "Token indices sequence length is longer than the specified maximum sequence length for this model (521 > 512). Running this sequence through the model will result in indexing errors\n",
      "Token indices sequence length is longer than the specified maximum sequence length for this model (628 > 512). Running this sequence through the model will result in indexing errors\n",
      "Token indices sequence length is longer than the specified maximum sequence length for this model (548 > 512). Running this sequence through the model will result in indexing errors\n",
      "Token indices sequence length is longer than the specified maximum sequence length for this model (794 > 512). Running this sequence through the model will result in indexing errors\n",
      "Token indices sequence length is longer than the specified maximum sequence length for this model (747 > 512). Running this sequence through the model will result in indexing errors\n",
      "Token indices sequence length is longer than the specified maximum sequence length for this model (667 > 512). Running this sequence through the model will result in indexing errors\n",
      "Token indices sequence length is longer than the specified maximum sequence length for this model (684 > 512). Running this sequence through the model will result in indexing errors\n",
      "Token indices sequence length is longer than the specified maximum sequence length for this model (672 > 512). Running this sequence through the model will result in indexing errors\n",
      "Token indices sequence length is longer than the specified maximum sequence length for this model (643 > 512). Running this sequence through the model will result in indexing errors\n",
      "Token indices sequence length is longer than the specified maximum sequence length for this model (584 > 512). Running this sequence through the model will result in indexing errors\n",
      "Token indices sequence length is longer than the specified maximum sequence length for this model (1507 > 512). Running this sequence through the model will result in indexing errors\n",
      "Token indices sequence length is longer than the specified maximum sequence length for this model (1103 > 512). Running this sequence through the model will result in indexing errors\n",
      "Token indices sequence length is longer than the specified maximum sequence length for this model (665 > 512). Running this sequence through the model will result in indexing errors\n",
      "Token indices sequence length is longer than the specified maximum sequence length for this model (749 > 512). Running this sequence through the model will result in indexing errors\n",
      "Token indices sequence length is longer than the specified maximum sequence length for this model (667 > 512). Running this sequence through the model will result in indexing errors\n",
      "Token indices sequence length is longer than the specified maximum sequence length for this model (1173 > 512). Running this sequence through the model will result in indexing errors\n",
      "INFO:simpletransformers.classification.classification_model: 46642 features created from 9245 samples.\n"
     ]
    },
    {
     "data": {
      "application/vnd.jupyter.widget-view+json": {
       "model_id": "76c97135df8449e88b1ac4ccdf322ba3",
       "version_major": 2,
       "version_minor": 0
      },
      "text/plain": [
       "Epoch:   0%|          | 0/4 [00:00<?, ?it/s]"
      ]
     },
     "metadata": {},
     "output_type": "display_data"
    },
    {
     "data": {
      "application/vnd.jupyter.widget-view+json": {
       "model_id": "aa393f6cc0914c5d9b5b6a4b375ed466",
       "version_major": 2,
       "version_minor": 0
      },
      "text/plain": [
       "Running Epoch 0 of 4:   0%|          | 0/5831 [00:00<?, ?it/s]"
      ]
     },
     "metadata": {},
     "output_type": "display_data"
    },
    {
     "data": {
      "application/vnd.jupyter.widget-view+json": {
       "model_id": "2e91e41676934907975f89497dc831ae",
       "version_major": 2,
       "version_minor": 0
      },
      "text/plain": [
       "Running Epoch 1 of 4:   0%|          | 0/5831 [00:00<?, ?it/s]"
      ]
     },
     "metadata": {},
     "output_type": "display_data"
    },
    {
     "data": {
      "application/vnd.jupyter.widget-view+json": {
       "model_id": "53d3a0ea9dad4a51be50f1815103400e",
       "version_major": 2,
       "version_minor": 0
      },
      "text/plain": [
       "Running Epoch 2 of 4:   0%|          | 0/5831 [00:00<?, ?it/s]"
      ]
     },
     "metadata": {},
     "output_type": "display_data"
    },
    {
     "data": {
      "application/vnd.jupyter.widget-view+json": {
       "model_id": "0ac7fee4c627435aa120e4100af5bdbe",
       "version_major": 2,
       "version_minor": 0
      },
      "text/plain": [
       "Running Epoch 3 of 4:   0%|          | 0/5831 [00:00<?, ?it/s]"
      ]
     },
     "metadata": {},
     "output_type": "display_data"
    },
    {
     "name": "stderr",
     "output_type": "stream",
     "text": [
      "INFO:simpletransformers.classification.classification_model: Training of bert model complete. Saved to outputs/.\n"
     ]
    },
    {
     "data": {
      "text/plain": [
       "(23324, 0.10205436473649396)"
      ]
     },
     "execution_count": 25,
     "metadata": {},
     "output_type": "execute_result"
    }
   ],
   "source": [
    "model.train_model(data_train_orig)"
   ]
  },
  {
   "cell_type": "code",
   "execution_count": 27,
   "metadata": {},
   "outputs": [
    {
     "name": "stderr",
     "output_type": "stream",
     "text": [
      "INFO:simpletransformers.classification.classification_model: Converting to features started. Cache is not used.\n",
      "INFO:simpletransformers.classification.classification_model: Sliding window enabled\n"
     ]
    },
    {
     "data": {
      "application/vnd.jupyter.widget-view+json": {
       "model_id": "89ff98eae13f4e73b5babddf4a71b312",
       "version_major": 2,
       "version_minor": 0
      },
      "text/plain": [
       "  0%|          | 0/1028 [00:00<?, ?it/s]"
      ]
     },
     "metadata": {},
     "output_type": "display_data"
    },
    {
     "name": "stderr",
     "output_type": "stream",
     "text": [
      "Token indices sequence length is longer than the specified maximum sequence length for this model (820 > 512). Running this sequence through the model will result in indexing errors\n",
      "Token indices sequence length is longer than the specified maximum sequence length for this model (1566 > 512). Running this sequence through the model will result in indexing errors\n",
      "Token indices sequence length is longer than the specified maximum sequence length for this model (565 > 512). Running this sequence through the model will result in indexing errors\n",
      "INFO:simpletransformers.classification.classification_model: 1028 features created from 1028 samples.\n"
     ]
    },
    {
     "data": {
      "application/vnd.jupyter.widget-view+json": {
       "model_id": "6d1456f757d4441f9afeb8f65fe30931",
       "version_major": 2,
       "version_minor": 0
      },
      "text/plain": [
       "  0%|          | 0/660 [00:00<?, ?it/s]"
      ]
     },
     "metadata": {},
     "output_type": "display_data"
    },
    {
     "name": "stdout",
     "output_type": "stream",
     "text": [
      "Test:\n",
      "              precision    recall  f1-score   support\n",
      "\n",
      "           0       0.86      0.91      0.88        67\n",
      "           1       0.83      0.88      0.86       102\n",
      "           2       0.89      0.87      0.88       151\n",
      "           3       0.84      0.87      0.85        54\n",
      "           4       0.84      0.83      0.83       168\n",
      "           5       0.99      0.97      0.98       120\n",
      "           6       0.94      0.90      0.92       168\n",
      "           7       0.87      0.89      0.88       141\n",
      "           8       0.88      0.88      0.88        57\n",
      "\n",
      "    accuracy                           0.89      1028\n",
      "   macro avg       0.88      0.89      0.88      1028\n",
      "weighted avg       0.89      0.89      0.89      1028\n",
      "\n"
     ]
    }
   ],
   "source": [
    "from sklearn.metrics import classification_report\n",
    "\n",
    "test_list = data_test_orig['text'].tolist()\n",
    "y_test_pred, raw_outputs = model.predict(test_list)\n",
    "y_test =  data_test_orig['labels'].tolist()\n",
    "\n",
    "report = classification_report(y_test, y_test_pred)\n",
    "print(\"Test:\")\n",
    "print(report)"
   ]
  },
  {
   "cell_type": "code",
   "execution_count": 29,
   "metadata": {},
   "outputs": [],
   "source": [
    "# We need to use the inverse transform to get from the integer values to the string classes again\n",
    "# Otherwise we will not be able to compare the f1 score with the other models\n",
    "y_test_pred_inv = encoder.inverse_transform(y_test_pred)\n",
    "y_test_inv = encoder.inverse_transform(y_test)"
   ]
  },
  {
   "cell_type": "code",
   "execution_count": 30,
   "metadata": {},
   "outputs": [
    {
     "name": "stdout",
     "output_type": "stream",
     "text": [
      "All F1 Score - Maximum highlighted\n"
     ]
    },
    {
     "data": {
      "text/html": [
       "<style  type=\"text/css\" >\n",
       "#T_23fb4e24_4491_11ec_b24c_0242ac110002row0_col9,#T_23fb4e24_4491_11ec_b24c_0242ac110002row1_col7,#T_23fb4e24_4491_11ec_b24c_0242ac110002row2_col9,#T_23fb4e24_4491_11ec_b24c_0242ac110002row3_col2,#T_23fb4e24_4491_11ec_b24c_0242ac110002row4_col6,#T_23fb4e24_4491_11ec_b24c_0242ac110002row5_col0,#T_23fb4e24_4491_11ec_b24c_0242ac110002row5_col2,#T_23fb4e24_4491_11ec_b24c_0242ac110002row5_col7,#T_23fb4e24_4491_11ec_b24c_0242ac110002row6_col6,#T_23fb4e24_4491_11ec_b24c_0242ac110002row7_col9,#T_23fb4e24_4491_11ec_b24c_0242ac110002row8_col0,#T_23fb4e24_4491_11ec_b24c_0242ac110002row9_col9,#T_23fb4e24_4491_11ec_b24c_0242ac110002row10_col9,#T_23fb4e24_4491_11ec_b24c_0242ac110002row11_col9{\n",
       "            background-color:  lightblue;\n",
       "        }</style><table id=\"T_23fb4e24_4491_11ec_b24c_0242ac110002\" ><thead>    <tr>        <th class=\"blank level0\" ></th>        <th class=\"col_heading level0 col0\" >f1-baseline</th>        <th class=\"col_heading level0 col1\" >f1-one vs one</th>        <th class=\"col_heading level0 col2\" >f1-baseline 2 Gram</th>        <th class=\"col_heading level0 col3\" >f1-kNN</th>        <th class=\"col_heading level0 col4\" >f1-Random Forest</th>        <th class=\"col_heading level0 col5\" >f1-Naiv Bayes</th>        <th class=\"col_heading level0 col6\" >f1-baseline stemming</th>        <th class=\"col_heading level0 col7\" >f1-baseline stemming optimized</th>        <th class=\"col_heading level0 col8\" >f1-dummy clf</th>        <th class=\"col_heading level0 col9\" >f1-simpletransformer</th>    </tr></thead><tbody>\n",
       "                <tr>\n",
       "                        <th id=\"T_23fb4e24_4491_11ec_b24c_0242ac110002level0_row0\" class=\"row_heading level0 row0\" >Etat</th>\n",
       "                        <td id=\"T_23fb4e24_4491_11ec_b24c_0242ac110002row0_col0\" class=\"data row0 col0\" >0.850394</td>\n",
       "                        <td id=\"T_23fb4e24_4491_11ec_b24c_0242ac110002row0_col1\" class=\"data row0 col1\" >0.848000</td>\n",
       "                        <td id=\"T_23fb4e24_4491_11ec_b24c_0242ac110002row0_col2\" class=\"data row0 col2\" >0.806723</td>\n",
       "                        <td id=\"T_23fb4e24_4491_11ec_b24c_0242ac110002row0_col3\" class=\"data row0 col3\" >0.753846</td>\n",
       "                        <td id=\"T_23fb4e24_4491_11ec_b24c_0242ac110002row0_col4\" class=\"data row0 col4\" >0.568421</td>\n",
       "                        <td id=\"T_23fb4e24_4491_11ec_b24c_0242ac110002row0_col5\" class=\"data row0 col5\" >0.029412</td>\n",
       "                        <td id=\"T_23fb4e24_4491_11ec_b24c_0242ac110002row0_col6\" class=\"data row0 col6\" >0.852713</td>\n",
       "                        <td id=\"T_23fb4e24_4491_11ec_b24c_0242ac110002row0_col7\" class=\"data row0 col7\" >0.859375</td>\n",
       "                        <td id=\"T_23fb4e24_4491_11ec_b24c_0242ac110002row0_col8\" class=\"data row0 col8\" >0.031746</td>\n",
       "                        <td id=\"T_23fb4e24_4491_11ec_b24c_0242ac110002row0_col9\" class=\"data row0 col9\" >0.884058</td>\n",
       "            </tr>\n",
       "            <tr>\n",
       "                        <th id=\"T_23fb4e24_4491_11ec_b24c_0242ac110002level0_row1\" class=\"row_heading level0 row1\" >Inland</th>\n",
       "                        <td id=\"T_23fb4e24_4491_11ec_b24c_0242ac110002row1_col0\" class=\"data row1 col0\" >0.835821</td>\n",
       "                        <td id=\"T_23fb4e24_4491_11ec_b24c_0242ac110002row1_col1\" class=\"data row1 col1\" >0.827586</td>\n",
       "                        <td id=\"T_23fb4e24_4491_11ec_b24c_0242ac110002row1_col2\" class=\"data row1 col2\" >0.831683</td>\n",
       "                        <td id=\"T_23fb4e24_4491_11ec_b24c_0242ac110002row1_col3\" class=\"data row1 col3\" >0.770563</td>\n",
       "                        <td id=\"T_23fb4e24_4491_11ec_b24c_0242ac110002row1_col4\" class=\"data row1 col4\" >0.780488</td>\n",
       "                        <td id=\"T_23fb4e24_4491_11ec_b24c_0242ac110002row1_col5\" class=\"data row1 col5\" >0.717647</td>\n",
       "                        <td id=\"T_23fb4e24_4491_11ec_b24c_0242ac110002row1_col6\" class=\"data row1 col6\" >0.848485</td>\n",
       "                        <td id=\"T_23fb4e24_4491_11ec_b24c_0242ac110002row1_col7\" class=\"data row1 col7\" >0.869565</td>\n",
       "                        <td id=\"T_23fb4e24_4491_11ec_b24c_0242ac110002row1_col8\" class=\"data row1 col8\" >0.040201</td>\n",
       "                        <td id=\"T_23fb4e24_4491_11ec_b24c_0242ac110002row1_col9\" class=\"data row1 col9\" >0.857143</td>\n",
       "            </tr>\n",
       "            <tr>\n",
       "                        <th id=\"T_23fb4e24_4491_11ec_b24c_0242ac110002level0_row2\" class=\"row_heading level0 row2\" >International</th>\n",
       "                        <td id=\"T_23fb4e24_4491_11ec_b24c_0242ac110002row2_col0\" class=\"data row2 col0\" >0.855172</td>\n",
       "                        <td id=\"T_23fb4e24_4491_11ec_b24c_0242ac110002row2_col1\" class=\"data row2 col1\" >0.849123</td>\n",
       "                        <td id=\"T_23fb4e24_4491_11ec_b24c_0242ac110002row2_col2\" class=\"data row2 col2\" >0.823529</td>\n",
       "                        <td id=\"T_23fb4e24_4491_11ec_b24c_0242ac110002row2_col3\" class=\"data row2 col3\" >0.813115</td>\n",
       "                        <td id=\"T_23fb4e24_4491_11ec_b24c_0242ac110002row2_col4\" class=\"data row2 col4\" >0.788274</td>\n",
       "                        <td id=\"T_23fb4e24_4491_11ec_b24c_0242ac110002row2_col5\" class=\"data row2 col5\" >0.830450</td>\n",
       "                        <td id=\"T_23fb4e24_4491_11ec_b24c_0242ac110002row2_col6\" class=\"data row2 col6\" >0.851351</td>\n",
       "                        <td id=\"T_23fb4e24_4491_11ec_b24c_0242ac110002row2_col7\" class=\"data row2 col7\" >0.851351</td>\n",
       "                        <td id=\"T_23fb4e24_4491_11ec_b24c_0242ac110002row2_col8\" class=\"data row2 col8\" >0.190184</td>\n",
       "                        <td id=\"T_23fb4e24_4491_11ec_b24c_0242ac110002row2_col9\" class=\"data row2 col9\" >0.876254</td>\n",
       "            </tr>\n",
       "            <tr>\n",
       "                        <th id=\"T_23fb4e24_4491_11ec_b24c_0242ac110002level0_row3\" class=\"row_heading level0 row3\" >Kultur</th>\n",
       "                        <td id=\"T_23fb4e24_4491_11ec_b24c_0242ac110002row3_col0\" class=\"data row3 col0\" >0.854545</td>\n",
       "                        <td id=\"T_23fb4e24_4491_11ec_b24c_0242ac110002row3_col1\" class=\"data row3 col1\" >0.811321</td>\n",
       "                        <td id=\"T_23fb4e24_4491_11ec_b24c_0242ac110002row3_col2\" class=\"data row3 col2\" >0.890909</td>\n",
       "                        <td id=\"T_23fb4e24_4491_11ec_b24c_0242ac110002row3_col3\" class=\"data row3 col3\" >0.742268</td>\n",
       "                        <td id=\"T_23fb4e24_4491_11ec_b24c_0242ac110002row3_col4\" class=\"data row3 col4\" >0.804124</td>\n",
       "                        <td id=\"T_23fb4e24_4491_11ec_b24c_0242ac110002row3_col5\" class=\"data row3 col5\" >0.000000</td>\n",
       "                        <td id=\"T_23fb4e24_4491_11ec_b24c_0242ac110002row3_col6\" class=\"data row3 col6\" >0.859813</td>\n",
       "                        <td id=\"T_23fb4e24_4491_11ec_b24c_0242ac110002row3_col7\" class=\"data row3 col7\" >0.878505</td>\n",
       "                        <td id=\"T_23fb4e24_4491_11ec_b24c_0242ac110002row3_col8\" class=\"data row3 col8\" >0.055556</td>\n",
       "                        <td id=\"T_23fb4e24_4491_11ec_b24c_0242ac110002row3_col9\" class=\"data row3 col9\" >0.854545</td>\n",
       "            </tr>\n",
       "            <tr>\n",
       "                        <th id=\"T_23fb4e24_4491_11ec_b24c_0242ac110002level0_row4\" class=\"row_heading level0 row4\" >Panorama</th>\n",
       "                        <td id=\"T_23fb4e24_4491_11ec_b24c_0242ac110002row4_col0\" class=\"data row4 col0\" >0.829412</td>\n",
       "                        <td id=\"T_23fb4e24_4491_11ec_b24c_0242ac110002row4_col1\" class=\"data row4 col1\" >0.802228</td>\n",
       "                        <td id=\"T_23fb4e24_4491_11ec_b24c_0242ac110002row4_col2\" class=\"data row4 col2\" >0.804598</td>\n",
       "                        <td id=\"T_23fb4e24_4491_11ec_b24c_0242ac110002row4_col3\" class=\"data row4 col3\" >0.738028</td>\n",
       "                        <td id=\"T_23fb4e24_4491_11ec_b24c_0242ac110002row4_col4\" class=\"data row4 col4\" >0.717087</td>\n",
       "                        <td id=\"T_23fb4e24_4491_11ec_b24c_0242ac110002row4_col5\" class=\"data row4 col5\" >0.631791</td>\n",
       "                        <td id=\"T_23fb4e24_4491_11ec_b24c_0242ac110002row4_col6\" class=\"data row4 col6\" >0.838150</td>\n",
       "                        <td id=\"T_23fb4e24_4491_11ec_b24c_0242ac110002row4_col7\" class=\"data row4 col7\" >0.826347</td>\n",
       "                        <td id=\"T_23fb4e24_4491_11ec_b24c_0242ac110002row4_col8\" class=\"data row4 col8\" >0.197015</td>\n",
       "                        <td id=\"T_23fb4e24_4491_11ec_b24c_0242ac110002row4_col9\" class=\"data row4 col9\" >0.832335</td>\n",
       "            </tr>\n",
       "            <tr>\n",
       "                        <th id=\"T_23fb4e24_4491_11ec_b24c_0242ac110002level0_row5\" class=\"row_heading level0 row5\" >Sport</th>\n",
       "                        <td id=\"T_23fb4e24_4491_11ec_b24c_0242ac110002row5_col0\" class=\"data row5 col0\" >0.991667</td>\n",
       "                        <td id=\"T_23fb4e24_4491_11ec_b24c_0242ac110002row5_col1\" class=\"data row5 col1\" >0.978903</td>\n",
       "                        <td id=\"T_23fb4e24_4491_11ec_b24c_0242ac110002row5_col2\" class=\"data row5 col2\" >0.991667</td>\n",
       "                        <td id=\"T_23fb4e24_4491_11ec_b24c_0242ac110002row5_col3\" class=\"data row5 col3\" >0.962343</td>\n",
       "                        <td id=\"T_23fb4e24_4491_11ec_b24c_0242ac110002row5_col4\" class=\"data row5 col4\" >0.970464</td>\n",
       "                        <td id=\"T_23fb4e24_4491_11ec_b24c_0242ac110002row5_col5\" class=\"data row5 col5\" >0.948718</td>\n",
       "                        <td id=\"T_23fb4e24_4491_11ec_b24c_0242ac110002row5_col6\" class=\"data row5 col6\" >0.987448</td>\n",
       "                        <td id=\"T_23fb4e24_4491_11ec_b24c_0242ac110002row5_col7\" class=\"data row5 col7\" >0.991667</td>\n",
       "                        <td id=\"T_23fb4e24_4491_11ec_b24c_0242ac110002row5_col8\" class=\"data row5 col8\" >0.150794</td>\n",
       "                        <td id=\"T_23fb4e24_4491_11ec_b24c_0242ac110002row5_col9\" class=\"data row5 col9\" >0.978903</td>\n",
       "            </tr>\n",
       "            <tr>\n",
       "                        <th id=\"T_23fb4e24_4491_11ec_b24c_0242ac110002level0_row6\" class=\"row_heading level0 row6\" >Web</th>\n",
       "                        <td id=\"T_23fb4e24_4491_11ec_b24c_0242ac110002row6_col0\" class=\"data row6 col0\" >0.908012</td>\n",
       "                        <td id=\"T_23fb4e24_4491_11ec_b24c_0242ac110002row6_col1\" class=\"data row6 col1\" >0.900901</td>\n",
       "                        <td id=\"T_23fb4e24_4491_11ec_b24c_0242ac110002row6_col2\" class=\"data row6 col2\" >0.908012</td>\n",
       "                        <td id=\"T_23fb4e24_4491_11ec_b24c_0242ac110002row6_col3\" class=\"data row6 col3\" >0.835913</td>\n",
       "                        <td id=\"T_23fb4e24_4491_11ec_b24c_0242ac110002row6_col4\" class=\"data row6 col4\" >0.850000</td>\n",
       "                        <td id=\"T_23fb4e24_4491_11ec_b24c_0242ac110002row6_col5\" class=\"data row6 col5\" >0.756219</td>\n",
       "                        <td id=\"T_23fb4e24_4491_11ec_b24c_0242ac110002row6_col6\" class=\"data row6 col6\" >0.925373</td>\n",
       "                        <td id=\"T_23fb4e24_4491_11ec_b24c_0242ac110002row6_col7\" class=\"data row6 col7\" >0.923077</td>\n",
       "                        <td id=\"T_23fb4e24_4491_11ec_b24c_0242ac110002row6_col8\" class=\"data row6 col8\" >0.127796</td>\n",
       "                        <td id=\"T_23fb4e24_4491_11ec_b24c_0242ac110002row6_col9\" class=\"data row6 col9\" >0.917933</td>\n",
       "            </tr>\n",
       "            <tr>\n",
       "                        <th id=\"T_23fb4e24_4491_11ec_b24c_0242ac110002level0_row7\" class=\"row_heading level0 row7\" >Wirtschaft</th>\n",
       "                        <td id=\"T_23fb4e24_4491_11ec_b24c_0242ac110002row7_col0\" class=\"data row7 col0\" >0.849315</td>\n",
       "                        <td id=\"T_23fb4e24_4491_11ec_b24c_0242ac110002row7_col1\" class=\"data row7 col1\" >0.813559</td>\n",
       "                        <td id=\"T_23fb4e24_4491_11ec_b24c_0242ac110002row7_col2\" class=\"data row7 col2\" >0.823129</td>\n",
       "                        <td id=\"T_23fb4e24_4491_11ec_b24c_0242ac110002row7_col3\" class=\"data row7 col3\" >0.747253</td>\n",
       "                        <td id=\"T_23fb4e24_4491_11ec_b24c_0242ac110002row7_col4\" class=\"data row7 col4\" >0.719723</td>\n",
       "                        <td id=\"T_23fb4e24_4491_11ec_b24c_0242ac110002row7_col5\" class=\"data row7 col5\" >0.785965</td>\n",
       "                        <td id=\"T_23fb4e24_4491_11ec_b24c_0242ac110002row7_col6\" class=\"data row7 col6\" >0.851211</td>\n",
       "                        <td id=\"T_23fb4e24_4491_11ec_b24c_0242ac110002row7_col7\" class=\"data row7 col7\" >0.844291</td>\n",
       "                        <td id=\"T_23fb4e24_4491_11ec_b24c_0242ac110002row7_col8\" class=\"data row7 col8\" >0.141343</td>\n",
       "                        <td id=\"T_23fb4e24_4491_11ec_b24c_0242ac110002row7_col9\" class=\"data row7 col9\" >0.877193</td>\n",
       "            </tr>\n",
       "            <tr>\n",
       "                        <th id=\"T_23fb4e24_4491_11ec_b24c_0242ac110002level0_row8\" class=\"row_heading level0 row8\" >Wissenschaft</th>\n",
       "                        <td id=\"T_23fb4e24_4491_11ec_b24c_0242ac110002row8_col0\" class=\"data row8 col0\" >0.924370</td>\n",
       "                        <td id=\"T_23fb4e24_4491_11ec_b24c_0242ac110002row8_col1\" class=\"data row8 col1\" >0.902655</td>\n",
       "                        <td id=\"T_23fb4e24_4491_11ec_b24c_0242ac110002row8_col2\" class=\"data row8 col2\" >0.905983</td>\n",
       "                        <td id=\"T_23fb4e24_4491_11ec_b24c_0242ac110002row8_col3\" class=\"data row8 col3\" >0.796117</td>\n",
       "                        <td id=\"T_23fb4e24_4491_11ec_b24c_0242ac110002row8_col4\" class=\"data row8 col4\" >0.844037</td>\n",
       "                        <td id=\"T_23fb4e24_4491_11ec_b24c_0242ac110002row8_col5\" class=\"data row8 col5\" >0.000000</td>\n",
       "                        <td id=\"T_23fb4e24_4491_11ec_b24c_0242ac110002row8_col6\" class=\"data row8 col6\" >0.905983</td>\n",
       "                        <td id=\"T_23fb4e24_4491_11ec_b24c_0242ac110002row8_col7\" class=\"data row8 col7\" >0.905983</td>\n",
       "                        <td id=\"T_23fb4e24_4491_11ec_b24c_0242ac110002row8_col8\" class=\"data row8 col8\" >0.052632</td>\n",
       "                        <td id=\"T_23fb4e24_4491_11ec_b24c_0242ac110002row8_col9\" class=\"data row8 col9\" >0.877193</td>\n",
       "            </tr>\n",
       "            <tr>\n",
       "                        <th id=\"T_23fb4e24_4491_11ec_b24c_0242ac110002level0_row9\" class=\"row_heading level0 row9\" >accuracy</th>\n",
       "                        <td id=\"T_23fb4e24_4491_11ec_b24c_0242ac110002row9_col0\" class=\"data row9 col0\" >0.876459</td>\n",
       "                        <td id=\"T_23fb4e24_4491_11ec_b24c_0242ac110002row9_col1\" class=\"data row9 col1\" >0.857977</td>\n",
       "                        <td id=\"T_23fb4e24_4491_11ec_b24c_0242ac110002row9_col2\" class=\"data row9 col2\" >0.861868</td>\n",
       "                        <td id=\"T_23fb4e24_4491_11ec_b24c_0242ac110002row9_col3\" class=\"data row9 col3\" >0.799611</td>\n",
       "                        <td id=\"T_23fb4e24_4491_11ec_b24c_0242ac110002row9_col4\" class=\"data row9 col4\" >0.790856</td>\n",
       "                        <td id=\"T_23fb4e24_4491_11ec_b24c_0242ac110002row9_col5\" class=\"data row9 col5\" >0.694553</td>\n",
       "                        <td id=\"T_23fb4e24_4491_11ec_b24c_0242ac110002row9_col6\" class=\"data row9 col6\" >0.880350</td>\n",
       "                        <td id=\"T_23fb4e24_4491_11ec_b24c_0242ac110002row9_col7\" class=\"data row9 col7\" >0.881323</td>\n",
       "                        <td id=\"T_23fb4e24_4491_11ec_b24c_0242ac110002row9_col8\" class=\"data row9 col8\" >0.131323</td>\n",
       "                        <td id=\"T_23fb4e24_4491_11ec_b24c_0242ac110002row9_col9\" class=\"data row9 col9\" >0.885214</td>\n",
       "            </tr>\n",
       "            <tr>\n",
       "                        <th id=\"T_23fb4e24_4491_11ec_b24c_0242ac110002level0_row10\" class=\"row_heading level0 row10\" >macro avg</th>\n",
       "                        <td id=\"T_23fb4e24_4491_11ec_b24c_0242ac110002row10_col0\" class=\"data row10 col0\" >0.877634</td>\n",
       "                        <td id=\"T_23fb4e24_4491_11ec_b24c_0242ac110002row10_col1\" class=\"data row10 col1\" >0.859364</td>\n",
       "                        <td id=\"T_23fb4e24_4491_11ec_b24c_0242ac110002row10_col2\" class=\"data row10 col2\" >0.865137</td>\n",
       "                        <td id=\"T_23fb4e24_4491_11ec_b24c_0242ac110002row10_col3\" class=\"data row10 col3\" >0.795494</td>\n",
       "                        <td id=\"T_23fb4e24_4491_11ec_b24c_0242ac110002row10_col4\" class=\"data row10 col4\" >0.782513</td>\n",
       "                        <td id=\"T_23fb4e24_4491_11ec_b24c_0242ac110002row10_col5\" class=\"data row10 col5\" >0.522245</td>\n",
       "                        <td id=\"T_23fb4e24_4491_11ec_b24c_0242ac110002row10_col6\" class=\"data row10 col6\" >0.880059</td>\n",
       "                        <td id=\"T_23fb4e24_4491_11ec_b24c_0242ac110002row10_col7\" class=\"data row10 col7\" >0.883351</td>\n",
       "                        <td id=\"T_23fb4e24_4491_11ec_b24c_0242ac110002row10_col8\" class=\"data row10 col8\" >0.109696</td>\n",
       "                        <td id=\"T_23fb4e24_4491_11ec_b24c_0242ac110002row10_col9\" class=\"data row10 col9\" >0.883951</td>\n",
       "            </tr>\n",
       "            <tr>\n",
       "                        <th id=\"T_23fb4e24_4491_11ec_b24c_0242ac110002level0_row11\" class=\"row_heading level0 row11\" >weighted avg</th>\n",
       "                        <td id=\"T_23fb4e24_4491_11ec_b24c_0242ac110002row11_col0\" class=\"data row11 col0\" >0.876300</td>\n",
       "                        <td id=\"T_23fb4e24_4491_11ec_b24c_0242ac110002row11_col1\" class=\"data row11 col1\" >0.858965</td>\n",
       "                        <td id=\"T_23fb4e24_4491_11ec_b24c_0242ac110002row11_col2\" class=\"data row11 col2\" >0.861639</td>\n",
       "                        <td id=\"T_23fb4e24_4491_11ec_b24c_0242ac110002row11_col3\" class=\"data row11 col3\" >0.800207</td>\n",
       "                        <td id=\"T_23fb4e24_4491_11ec_b24c_0242ac110002row11_col4\" class=\"data row11 col4\" >0.787416</td>\n",
       "                        <td id=\"T_23fb4e24_4491_11ec_b24c_0242ac110002row11_col5\" class=\"data row11 col5\" >0.640488</td>\n",
       "                        <td id=\"T_23fb4e24_4491_11ec_b24c_0242ac110002row11_col6\" class=\"data row11 col6\" >0.880436</td>\n",
       "                        <td id=\"T_23fb4e24_4491_11ec_b24c_0242ac110002row11_col7\" class=\"data row11 col7\" >0.881183</td>\n",
       "                        <td id=\"T_23fb4e24_4491_11ec_b24c_0242ac110002row11_col8\" class=\"data row11 col8\" >0.129901</td>\n",
       "                        <td id=\"T_23fb4e24_4491_11ec_b24c_0242ac110002row11_col9\" class=\"data row11 col9\" >0.885523</td>\n",
       "            </tr>\n",
       "    </tbody></table>"
      ],
      "text/plain": [
       "<pandas.io.formats.style.Styler at 0x7f66381c2ba8>"
      ]
     },
     "execution_count": 30,
     "metadata": {},
     "output_type": "execute_result"
    }
   ],
   "source": [
    "# Add the f1 score to the file with the scores of the baseline models and the experiments\n",
    "import os\n",
    "import class_result\n",
    "\n",
    "filename = 'data/overview_classification_results-with-transformer.csv'\n",
    "df_classification_results = class_result.append_to_classification_report('f1-simpletransformer', y_test_inv, y_test_pred_inv, filename=filename)\n",
    "\n",
    "print(\"All F1 Score - Maximum highlighted\")\n",
    "df_classification_results.style.highlight_max(color = 'lightblue', axis = 1)"
   ]
  },
  {
   "cell_type": "code",
   "execution_count": 31,
   "metadata": {},
   "outputs": [
    {
     "name": "stdout",
     "output_type": "stream",
     "text": [
      "Set Population: 1028\n",
      "Accuracy: 0.8852\n"
     ]
    },
    {
     "data": {
      "image/png": "[encoded data removed]",
      "text/plain": [
       "<Figure size 720x576 with 2 Axes>"
      ]
     },
     "metadata": {
      "needs_background": "light"
     },
     "output_type": "display_data"
    }
   ],
   "source": [
    "from fhnw.nlp.utils.ploting import plot_confusion_matrix\n",
    "plot_confusion_matrix(y_test_inv, y_test_pred_inv)"
   ]
  }
 ],
 "metadata": {
  "kernelspec": {
   "display_name": "Python 3",
   "language": "python",
   "name": "python3"
  },
  "language_info": {
   "codemirror_mode": {
    "name": "ipython",
    "version": 3
   },
   "file_extension": ".py",
   "mimetype": "text/x-python",
   "name": "python",
   "nbconvert_exporter": "python",
   "pygments_lexer": "ipython3",
   "version": "3.6.9"
  }
 },
 "nbformat": 4,
 "nbformat_minor": 2
}
