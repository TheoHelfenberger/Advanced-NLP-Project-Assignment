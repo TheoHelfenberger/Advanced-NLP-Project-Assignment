{
 "cells": [
  {
   "cell_type": "code",
   "execution_count": null,
   "metadata": {},
   "outputs": [],
   "source": [
    "!pip install fhnw-nlp-utils\n",
    "\n",
    "from fhnw.nlp.utils.storage import load_dataframe\n",
    "\n",
    "import pandas as pd\n",
    "import numpy as np\n",
    "\n",
    "file = \"data/german_news_articles_original_train_and_test_tokenized.parq\"\n",
    "data_all = load_dataframe(file)"
   ]
  },
  {
   "cell_type": "markdown",
   "metadata": {},
   "source": [
    "# Summary\n",
    "\n",
    "I choose the *Thousand German News Articles Dataset* for my project assignment. \n",
    "There was not much cleaning needed as this was already done by the creator of the dataset and the steps shown in the 'class notebook' were sufficient.\n",
    "\n",
    "The dataset poses a multiclass (9) classification problem.  "
   ]
  },
  {
   "cell_type": "code",
   "execution_count": 2,
   "metadata": {},
   "outputs": [
    {
     "data": {
      "text/plain": [
       "<AxesSubplot:>"
      ]
     },
     "execution_count": 2,
     "metadata": {},
     "output_type": "execute_result"
    },
    {
     "data": {
      "image/png": "[encoded data removed]",
      "text/plain": [
       "<Figure size 360x360 with 1 Axes>"
      ]
     },
     "metadata": {
      "needs_background": "light"
     },
     "output_type": "display_data"
    }
   ],
   "source": [
    "data_all['label'].value_counts().plot.barh(figsize=(5,5))"
   ]
  },
  {
   "cell_type": "markdown",
   "metadata": {},
   "source": [
    "- Kultur, Wissenschaft and Etat together are smaller than the largest class. This imbalance needs to be adressed but I did not follow that path.\n",
    "- The dataset is not very large which might be the reason why deep learning model like CNN and RNN do not show good results"
   ]
  },
  {
   "cell_type": "markdown",
   "metadata": {},
   "source": [
    "## TF-IDF based models\n",
    "\n",
    "### Roadmap\n",
    "- After cleaning I created a baseline model with TF-IDF. See [02_PA_Baseline%20Prediction](02_PA_Baseline%20Prediction.ipynb)\n",
    "- After that I created some alternative models using other classification algorithms (all based on TF-IDF)\n",
    "- Evaluated the difference between models using Lemmatization vs Stemming (Stemming is slighlty better)\n",
    "- And eventually did some hyperparameter tuning.\n",
    "\n",
    "### Evaluation\n",
    "\n",
    "The **winner is SGDClassifier on Stemmed tokens after optimization with BayesSearchCV**. But the different to the baseline above is just marginal\n",
    "\n",
    "- As as Classifier SGDClassifier seems to be the winner. It is surprising how good the above baseline without any tweaking or optimization is performing. \n",
    "- Stemming seems to deliver slightly improved results than Lemmatization\n",
    "- 2 Gram always seems to be worse than 1 Gram\n",
    "\n",
    "\n",
    "The calculation of the other models can be found in \n",
    "[PA_Classification_Expermiments](03_PA_Classification_Expermiments.ipynb)\n",
    "\n",
    "Here the description of the different columns\n",
    "- f1- baseline: SGD Classifier 1 Gram on token_lemma (see this notebook)\n",
    "- f1-one vs one: OneVsOneClassifier  Gram on token_lemma\n",
    "- f1-baseline 2 Gram: SGD Classifier 1 and 2 Gram on token_lemma\n",
    "- f1-kNN: K-Nearest Neighbours Classifier 1 Gram on token_lemma\n",
    "- f1-Random Forest: Random Forest Classifier  1 Gram on token_lemma\n",
    "- f1-Naiv Bayes: Naive Bayes Classifier  1 Gram on token_lemma\n",
    "- f1-baseline stemming: SGD Classifier 1 Gram on on token_stem (Stemming tokens)\n",
    "- **f1-baseline stemming optimized**: SGD Classifier 1 Gram on on token_stem (Stemming tokens) using BayesSearchCV\n",
    "- f1-dummy-clf: Dummy classifier stratified\n",
    "\n",
    "The following table shows the F1 Score of the different models.\n",
    "\n",
    "\n",
    "![classification_results.png.png](classification_results.png)"
   ]
  },
  {
   "cell_type": "markdown",
   "metadata": {},
   "source": [
    "## Vertex AI (Auto ML)\n",
    "I also used the data to train on **Google Vertex AI (Auto ML)**. \n",
    "\n",
    "See steps in [PA_AutoML Data Prep](04_PA_AutoML%20Data%20Prep.ipynb)\n",
    "\n",
    "Had some difficulties to compare the result with the result above. \n",
    "But it seems that Auto ML is doing worse than the baseline. I assume that the average \n",
    "\n",
    "Weighted F1-Score at confidence 50% is **0.8754308**\n",
    "Which is actually is very convenient as no tokenization or other tuning steps were needed. Auto ML could be used a very quick baseline model."
   ]
  },
  {
   "cell_type": "markdown",
   "metadata": {},
   "source": [
    "## Deep Learning Models\n",
    "I followed the notebooks presented during the course and created the CNN and RNN LSTM models. \n",
    "See \n",
    "- [05_PA_CNN%20German%20Newsset](05_PA_CNN%20German%20Newsset.ipynb)\n",
    "- [06_PA_RNN%20German%20Newsset](06_PA_RNN%20German%20Newsset.ipynb)\n",
    "\n",
    "\n",
    "\n",
    "- the result were by far not as good as the 'simple' models (max 0.74 weighted f1-score)\n",
    "- but the effort was much bigger and cumbersome\n",
    "- many OOM Error forced the tuning of the batch size\n",
    "- training and evaluation took a lot longer but the result did not justify the addidional effort."
   ]
  },
  {
   "cell_type": "markdown",
   "metadata": {},
   "source": [
    "## Transformer Models\n",
    "The last 2 notebook are using Transformer based models. I wanted to compare the results and the handling of\n",
    "simpletransfomers.ai model vs. keras/tensorflow implementation.\n",
    "Both models use *bert, bert-base-german-cased*\n",
    "\n",
    "### Simpletransformers.ai\n",
    "It was very easy to follow the instructions on their website and the model was up and running in a very short time. Some minimal tuning of the batch was size needed. The result was very appealing but not significant better than the 'simple' models.\n",
    "See [07_PA_Simple%20Transformer](07_PA_Simple%20Transformer.ipynb)\n",
    "\n",
    "### Keras/Tensorflow \n",
    "The implementation using tensorflow was much more complicated and would not have been possible without the guidances of the class notebook provided. Nevertheless good results werde achieved but still not significant better than the 'simple' models.\n",
    "See [08_PA_Classification%20BERT](08_PA_Classification%20BERT.ipynb)\n",
    "\n",
    "The following shows the classification results achieved\n",
    "\n",
    "![classification_results_transformers](classification_results_transformers.png)\n",
    "\n"
   ]
  },
  {
   "cell_type": "markdown",
   "metadata": {},
   "source": [
    "## Fazit\n",
    "\n",
    "With this dataset the 'simple' models outperform the more complicated ones. Simple Models are easier to explain and reason about. \n",
    "Results could be improved by\n",
    "- Finding better stopwords  \n",
    "- Deal with the class imbalances\n",
    "- Better architecure on deep learning models\n",
    "\n",
    "All in all it was very interesting to 'play' around with different classifiers, models... "
   ]
  }
 ],
 "metadata": {
  "kernelspec": {
   "display_name": "Python 3",
   "language": "python",
   "name": "python3"
  },
  "language_info": {
   "codemirror_mode": {
    "name": "ipython",
    "version": 3
   },
   "file_extension": ".py",
   "mimetype": "text/x-python",
   "name": "python",
   "nbconvert_exporter": "python",
   "pygments_lexer": "ipython3",
   "version": "3.6.9"
  }
 },
 "nbformat": 4,
 "nbformat_minor": 2
}
